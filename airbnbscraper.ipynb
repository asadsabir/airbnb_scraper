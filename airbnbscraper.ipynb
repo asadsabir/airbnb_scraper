{
 "cells": [
  {
   "cell_type": "code",
   "execution_count": 1,
   "metadata": {},
   "outputs": [],
   "source": [
    "# all imports\n",
    "from selenium import webdriver\n",
    "from selenium.webdriver.chrome.options import Options\n",
    "from threading import Timer\n",
    "import csv"
   ]
  },
  {
   "cell_type": "code",
   "execution_count": 2,
   "metadata": {},
   "outputs": [],
   "source": [
    "url = 'https://www.airbnb.com/s/Chicago--IL--United-States/homes?tab_id=home_tab&refinement_paths%5B%5D=%2Fhomes&flexible_trip_dates%5B%5D=january&flexible_trip_lengths%5B%5D=weekend_trip&date_picker_type=flexible_dates&adults=2&source=structured_search_input_header&search_type=user_map_move&room_types%5B%5D=Entire%20home%2Fapt&ne_lat=41.98964427255951&ne_lng=-87.6077828578949&sw_lat=41.84249090396328&sw_lng=-87.75946714210511&zoom=12&search_by_map=true&place_id=ChIJ7cv00DwsDogRAMDACa2m4K8&federated_search_session_id=c74980a1-e7f4-46f4-aef2-59e1e842ccf7&pagination_search=true'\n",
    "allplaces = []\n",
    "page_count = 0\n",
    "options = Options()\n",
    "options.add_argument('--blink-settings=imagesEnabled=false')\n",
    "driver = webdriver.Chrome(options=options)\n",
    "driver.set_window_position(0, 0)\n",
    "driver.set_window_size(2560, 1440)\n"
   ]
  },
  {
   "cell_type": "code",
   "execution_count": 3,
   "metadata": {},
   "outputs": [],
   "source": [
    "def dict_to_csv():\n",
    "\n",
    "    field_names = ['title','location','rating','reviews','guests','bedrooms','beds','bathrooms','price','days booked']\n",
    "\n",
    "    with open('airbnb.csv', 'w',encoding='utf-8') as csvfile:\n",
    "        writer = csv.DictWriter(csvfile, fieldnames = field_names)\n",
    "        writer.writeheader()\n",
    "        writer.writerows(allplaces)\n",
    "\n"
   ]
  },
  {
   "cell_type": "code",
   "execution_count": 4,
   "metadata": {},
   "outputs": [],
   "source": [
    "def pageload_checker():\n",
    "    try:\n",
    "        a = {\n",
    "        'title':driver.find_element_by_class_name('_fecoyn4').text,\n",
    "        'guests':driver.find_element_by_class_name('_tqmy57').find_elements_by_xpath('./div[2]/span[1]')[0].text[0],\n",
    "        'bedrooms':driver.find_element_by_class_name('_tqmy57').find_elements_by_xpath('./div[2]/span[4]')[0].text[0],\n",
    "        'beds':driver.find_element_by_class_name('_tqmy57').find_elements_by_xpath('./div[2]/span[7]')[0].text[0],\n",
    "        'bathrooms':driver.find_element_by_class_name('_tqmy57').find_elements_by_xpath('./div[2]/span[10]')[0].text[0],\n",
    "        'price':driver.find_element_by_class_name('_1n700sq').get_attribute('innerText'),\n",
    "        'days booked':0\n",
    "        }\n",
    "        b = driver.find_element_by_class_name('_1hk9h0u')\n",
    "    except:\n",
    "        return False\n",
    "    return True"
   ]
  },
  {
   "cell_type": "code",
   "execution_count": 5,
   "metadata": {},
   "outputs": [],
   "source": [
    "def get_info_from_placepage(index,links,locations):\n",
    "    try:\n",
    "        rating = driver.find_element_by_class_name('_1ne5r4rt').text\n",
    "    except:\n",
    "        rating = ''\n",
    "    try:\n",
    "        reviews = driver.find_element_by_class_name('_142pbzop').text\n",
    "    except:\n",
    "        reviews = ''\n",
    "    \n",
    "    place_dict = {\n",
    "        'title':driver.find_element_by_class_name('_fecoyn4').text,\n",
    "        'location':locations[index][7:],\n",
    "        'rating':rating,\n",
    "        'reviews':reviews[1:reviews.find('r')],\n",
    "        'guests':driver.find_element_by_class_name('_tqmy57').find_elements_by_xpath('./div[2]/span[1]')[0].text[0],\n",
    "        'bedrooms':driver.find_element_by_class_name('_tqmy57').find_elements_by_xpath('./div[2]/span[4]')[0].text[0],\n",
    "        'beds':driver.find_element_by_class_name('_tqmy57').find_elements_by_xpath('./div[2]/span[7]')[0].text[0],\n",
    "        'bathrooms':driver.find_element_by_class_name('_tqmy57').find_elements_by_xpath('./div[2]/span[10]')[0].text[0],\n",
    "        'price':driver.find_element_by_class_name('_1n700sq').get_attribute('innerText')[1:driver.find_element_by_class_name('_1n700sq').get_attribute('innerText').find('/')-1],\n",
    "        'days booked':0\n",
    "    }\n",
    "    driver.find_element_by_class_name('_1hk9h0u').click()\n",
    "    count = 0\n",
    "    calendar = driver.find_elements_by_tag_name('td')\n",
    "    for date in calendar:\n",
    "        if not date.get_attribute('aria-label') == None:\n",
    "            if 'Not available' in date.get_attribute('aria-label'):\n",
    "                count = count +1\n",
    "    place_dict['days booked'] = count\n",
    "    allplaces.append(place_dict)\n",
    "    global url\n",
    "    if index == len(links)-1:\n",
    "        if url == None:\n",
    "            dict_to_csv()\n",
    "            driver.quit\n",
    "            print('done')\n",
    "            return\n",
    "        next_page()\n",
    "        return\n",
    "    driver.get(links[index+1])\n",
    "    while True:\n",
    "        if pageload_checker():\n",
    "            Timer(1.0, get_info_from_placepage,[index+1,links,locations]).start()\n",
    "            break\n",
    "        try:\n",
    "            if driver.find_element_by_class_name('_1uippt2').text[0] == 'P':\n",
    "                get_info_from_placepage(1,links,locations)\n",
    "        except:\n",
    "            pass"
   ]
  },
  {
   "cell_type": "code",
   "execution_count": 6,
   "metadata": {},
   "outputs": [],
   "source": [
    "\n",
    "def listing_scan():\n",
    "    links = driver.find_elements_by_class_name('_mm360j')\n",
    "    locations = driver.find_elements_by_class_name('_1xzimiid')\n",
    "    for i in range(len(locations)):\n",
    "        links[i] = links[i].get_attribute('href')\n",
    "        locations[i] = locations[i].text\n",
    "    \n",
    "    global url\n",
    "    url = driver.find_element_by_class_name('_za9j7e').get_attribute('href') \n",
    "    print(0)\n",
    "    driver.get(links[0])\n",
    "    while True:\n",
    "        if pageload_checker():\n",
    "            Timer(0.0, get_info_from_placepage,[0,links,locations]).start()\n",
    "            break\n",
    "        try:\n",
    "            if driver.find_element_by_class_name('_1uippt2').text[0] == 'P':\n",
    "                get_info_from_placepage(1,links,locations)\n",
    "                break\n",
    "        except:\n",
    "            pass\n"
   ]
  },
  {
   "cell_type": "code",
   "execution_count": 7,
   "metadata": {},
   "outputs": [],
   "source": [
    "def next_page():\n",
    "    driver.get(url)\n",
    "    Timer(6.0,listing_scan,[]).start()\n",
    "\n",
    "    "
   ]
  },
  {
   "cell_type": "code",
   "execution_count": 8,
   "metadata": {},
   "outputs": [],
   "source": [
    "next_page()"
   ]
  },
  {
   "cell_type": "code",
   "execution_count": 9,
   "metadata": {},
   "outputs": [
    {
     "name": "stdout",
     "output_type": "stream",
     "text": [
      "0\n",
      "0\n",
      "0\n",
      "0\n",
      "0\n",
      "0\n",
      "0\n",
      "0\n",
      "0\n",
      "0\n",
      "0\n",
      "0\n",
      "0\n",
      "0\n",
      "0\n",
      "done\n"
     ]
    }
   ],
   "source": [
    "#driver.quit\n"
   ]
  },
  {
   "cell_type": "code",
   "execution_count": null,
   "metadata": {},
   "outputs": [],
   "source": []
  },
  {
   "cell_type": "code",
   "execution_count": null,
   "metadata": {},
   "outputs": [],
   "source": []
  },
  {
   "cell_type": "code",
   "execution_count": null,
   "metadata": {},
   "outputs": [],
   "source": []
  },
  {
   "cell_type": "code",
   "execution_count": null,
   "metadata": {},
   "outputs": [],
   "source": []
  }
 ],
 "metadata": {
  "interpreter": {
   "hash": "2db524e06e9f5f4ffedc911c917cb75e12dbc923643829bf417064a77eb14d37"
  },
  "kernelspec": {
   "display_name": "Python 3.8.2 64-bit",
   "name": "python3"
  },
  "language_info": {
   "codemirror_mode": {
    "name": "ipython",
    "version": 3
   },
   "file_extension": ".py",
   "mimetype": "text/x-python",
   "name": "python",
   "nbconvert_exporter": "python",
   "pygments_lexer": "ipython3",
   "version": "3.8.2"
  },
  "orig_nbformat": 4
 },
 "nbformat": 4,
 "nbformat_minor": 2
}
