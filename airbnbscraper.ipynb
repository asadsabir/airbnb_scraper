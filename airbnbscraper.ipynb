{
 "cells": [
  {
   "cell_type": "code",
   "execution_count": null,
   "metadata": {},
   "outputs": [
    {
     "ename": "",
     "evalue": "",
     "output_type": "error",
     "traceback": [
      "\u001b[1;31mFailed to start the Kernel. \n",
      "\u001b[1;31mJupyter server crashed. Unable to connect. \n",
      "\u001b[1;31mError code from Jupyter: 1\n",
      "\u001b[1;31musage: jupyter.py [-h] [--version] [--config-dir] [--data-dir] [--runtime-dir]\n",
      "\u001b[1;31m                  [--paths] [--json] [--debug]\n",
      "\u001b[1;31m                  [subcommand]\n",
      "\u001b[1;31m\n",
      "\u001b[1;31mJupyter: Interactive Computing\n",
      "\u001b[1;31m\n",
      "\u001b[1;31mpositional arguments:\n",
      "\u001b[1;31m  subcommand     the subcommand to launch\n",
      "\u001b[1;31m\n",
      "\u001b[1;31moptional arguments:\n",
      "\u001b[1;31m  -h, --help     show this help message and exit\n",
      "\u001b[1;31m  --version      show the versions of core jupyter packages and exit\n",
      "\u001b[1;31m  --config-dir   show Jupyter config dir\n",
      "\u001b[1;31m  --data-dir     show Jupyter data dir\n",
      "\u001b[1;31m  --runtime-dir  show Jupyter runtime dir\n",
      "\u001b[1;31m  --paths        show all Jupyter paths. Add --json for machine-readable\n",
      "\u001b[1;31m                 format.\n",
      "\u001b[1;31m  --json         output paths as machine-readable json\n",
      "\u001b[1;31m  --debug        output debug information about paths\n",
      "\u001b[1;31m\n",
      "\u001b[1;31mAvailable subcommands:\n",
      "\u001b[1;31m\n",
      "\u001b[1;31mJupyter command `jupyter-notebook` not found. \n",
      "\u001b[1;31mView Jupyter <a href='command:jupyter.viewOutput'>log</a> for further details."
     ]
    }
   ],
   "source": [
    "#save table in a sql server\n",
    "#change window size to get 20 listings\n",
    "#keep clicking previous till not possible\n",
    "import time\n",
    "import pandas as pd\n",
    "import re\n",
    "import seaborn as sb\n",
    "import datetime as dt"
   ]
  },
  {
   "cell_type": "code",
   "execution_count": 16,
   "metadata": {},
   "outputs": [
    {
     "name": "stdout",
     "output_type": "stream",
     "text": [
      "28, Saturday, February 2023\n"
     ]
    }
   ],
   "source": [
    "monthword = ['January','February','March','April','May','June','July','August','September','October','November','December']\n",
    "weekdayword = ['Monday','Tuesday','Wednesday','Thursday','Friday','Saturday','Sunday']\n",
    "(dt.datetime.now() + dt.timedelta(days=2)).year\n",
    "now = dt.datetime.now()\n",
    "daypoint = now + dt.timedelta(days=2)\n",
    "print(f'{str(daypoint.day)}, {weekdayword[daypoint.weekday()]}, {monthword[daypoint.month]} {str(daypoint.year)}')"
   ]
  },
  {
   "cell_type": "code",
   "execution_count": 2,
   "metadata": {},
   "outputs": [],
   "source": [
    "df = pd.read_csv('airbnb.csv',index_col=[0])"
   ]
  },
  {
   "cell_type": "code",
   "execution_count": 3,
   "metadata": {},
   "outputs": [
    {
     "data": {
      "text/plain": [
       "2158"
      ]
     },
     "execution_count": 3,
     "metadata": {},
     "output_type": "execute_result"
    }
   ],
   "source": [
    "len(df)"
   ]
  },
  {
   "cell_type": "code",
   "execution_count": null,
   "metadata": {},
   "outputs": [],
   "source": [
    "\n",
    "df['text'][0]"
   ]
  },
  {
   "cell_type": "code",
   "execution_count": 4,
   "metadata": {},
   "outputs": [
    {
     "data": {
      "text/plain": [
       "59"
      ]
     },
     "execution_count": 4,
     "metadata": {},
     "output_type": "execute_result"
    }
   ],
   "source": [
    "len(df[(df['days booked'] == 0)&(df['city'] == 'Chicago')])"
   ]
  },
  {
   "cell_type": "code",
   "execution_count": 5,
   "metadata": {},
   "outputs": [
    {
     "data": {
      "text/html": [
       "<div>\n",
       "<style scoped>\n",
       "    .dataframe tbody tr th:only-of-type {\n",
       "        vertical-align: middle;\n",
       "    }\n",
       "\n",
       "    .dataframe tbody tr th {\n",
       "        vertical-align: top;\n",
       "    }\n",
       "\n",
       "    .dataframe thead th {\n",
       "        text-align: right;\n",
       "    }\n",
       "</style>\n",
       "<table border=\"1\" class=\"dataframe\">\n",
       "  <thead>\n",
       "    <tr style=\"text-align: right;\">\n",
       "      <th></th>\n",
       "      <th>room</th>\n",
       "      <th>text</th>\n",
       "      <th>days booked</th>\n",
       "      <th>date</th>\n",
       "      <th>search position</th>\n",
       "      <th>city</th>\n",
       "      <th>state</th>\n",
       "      <th>reviews</th>\n",
       "      <th>adults</th>\n",
       "      <th>children</th>\n",
       "      <th>infants</th>\n",
       "      <th>pets</th>\n",
       "    </tr>\n",
       "  </thead>\n",
       "  <tbody>\n",
       "    <tr>\n",
       "      <th>2153</th>\n",
       "      <td>49458886</td>\n",
       "      <td>Skip to content    Start your searchStaysExpe...</td>\n",
       "      <td>36</td>\n",
       "      <td>2023-01-24 19:23:17.589219</td>\n",
       "      <td>266</td>\n",
       "      <td>Chicago</td>\n",
       "      <td>Illinois</td>\n",
       "      <td>96</td>\n",
       "      <td>2</td>\n",
       "      <td>0</td>\n",
       "      <td>0</td>\n",
       "      <td>0</td>\n",
       "    </tr>\n",
       "    <tr>\n",
       "      <th>2154</th>\n",
       "      <td>plus/26251178</td>\n",
       "      <td>Skip to content    Start your searchStaysExpe...</td>\n",
       "      <td>7</td>\n",
       "      <td>2023-01-24 19:23:20.455801</td>\n",
       "      <td>267</td>\n",
       "      <td>Chicago</td>\n",
       "      <td>Illinois</td>\n",
       "      <td>390</td>\n",
       "      <td>2</td>\n",
       "      <td>0</td>\n",
       "      <td>0</td>\n",
       "      <td>0</td>\n",
       "    </tr>\n",
       "    <tr>\n",
       "      <th>2155</th>\n",
       "      <td>25376091</td>\n",
       "      <td>Skip to content    Start your searchStaysExpe...</td>\n",
       "      <td>5</td>\n",
       "      <td>2023-01-24 19:23:22.760447</td>\n",
       "      <td>268</td>\n",
       "      <td>Chicago</td>\n",
       "      <td>Illinois</td>\n",
       "      <td>135</td>\n",
       "      <td>2</td>\n",
       "      <td>0</td>\n",
       "      <td>0</td>\n",
       "      <td>0</td>\n",
       "    </tr>\n",
       "    <tr>\n",
       "      <th>2156</th>\n",
       "      <td>770523073506526538</td>\n",
       "      <td>Skip to content    Start your searchStaysExpe...</td>\n",
       "      <td>29</td>\n",
       "      <td>2023-01-24 19:23:24.914181</td>\n",
       "      <td>269</td>\n",
       "      <td>Chicago</td>\n",
       "      <td>Illinois</td>\n",
       "      <td>3</td>\n",
       "      <td>2</td>\n",
       "      <td>0</td>\n",
       "      <td>0</td>\n",
       "      <td>0</td>\n",
       "    </tr>\n",
       "    <tr>\n",
       "      <th>2157</th>\n",
       "      <td>52918623</td>\n",
       "      <td>Skip to content    Start your searchStaysExpe...</td>\n",
       "      <td>14</td>\n",
       "      <td>2023-01-24 19:23:27.055321</td>\n",
       "      <td>270</td>\n",
       "      <td>Chicago</td>\n",
       "      <td>Illinois</td>\n",
       "      <td>50</td>\n",
       "      <td>2</td>\n",
       "      <td>0</td>\n",
       "      <td>0</td>\n",
       "      <td>0</td>\n",
       "    </tr>\n",
       "  </tbody>\n",
       "</table>\n",
       "</div>"
      ],
      "text/plain": [
       "                    room                                               text  \\\n",
       "2153            49458886   Skip to content    Start your searchStaysExpe...   \n",
       "2154       plus/26251178   Skip to content    Start your searchStaysExpe...   \n",
       "2155            25376091   Skip to content    Start your searchStaysExpe...   \n",
       "2156  770523073506526538   Skip to content    Start your searchStaysExpe...   \n",
       "2157            52918623   Skip to content    Start your searchStaysExpe...   \n",
       "\n",
       "      days booked                        date  search position     city  \\\n",
       "2153           36  2023-01-24 19:23:17.589219              266  Chicago   \n",
       "2154            7  2023-01-24 19:23:20.455801              267  Chicago   \n",
       "2155            5  2023-01-24 19:23:22.760447              268  Chicago   \n",
       "2156           29  2023-01-24 19:23:24.914181              269  Chicago   \n",
       "2157           14  2023-01-24 19:23:27.055321              270  Chicago   \n",
       "\n",
       "         state  reviews  adults  children  infants  pets  \n",
       "2153  Illinois       96       2         0        0     0  \n",
       "2154  Illinois      390       2         0        0     0  \n",
       "2155  Illinois      135       2         0        0     0  \n",
       "2156  Illinois        3       2         0        0     0  \n",
       "2157  Illinois       50       2         0        0     0  "
      ]
     },
     "execution_count": 5,
     "metadata": {},
     "output_type": "execute_result"
    }
   ],
   "source": [
    "df.tail()"
   ]
  },
  {
   "cell_type": "code",
   "execution_count": 6,
   "metadata": {},
   "outputs": [
    {
     "name": "stdout",
     "output_type": "stream",
     "text": [
      "see\n",
      "see\n",
      "see\n",
      "see\n",
      "see\n",
      "see\n",
      "see\n",
      "see\n",
      "see\n",
      "see\n",
      "see\n",
      "see\n",
      "see\n",
      "see\n",
      "see\n",
      "see\n",
      "see\n",
      "see\n",
      "see\n",
      "see\n",
      "see\n",
      "see\n",
      "see\n",
      "see\n",
      "see\n",
      "see\n",
      "see\n",
      "see\n",
      "see\n",
      "see\n",
      "see\n",
      "see\n",
      "see\n",
      "see\n",
      "see\n",
      "see\n",
      "see\n",
      "see\n"
     ]
    }
   ],
   "source": [
    "#Cleanliness5.0Accuracy5.0Communication5.0Location5.0Check-in5.0Value4.9\n",
    "\n",
    "processed = []\n",
    "errd = []\n",
    "\n",
    "def try_patterns(text:str,patterns:list[str],num:bool = False):\n",
    "    for p in patterns:\n",
    "        try:\n",
    "            regstring = re.search(p,text).group()\n",
    "            if num:\n",
    "                return float(regstring)\n",
    "            return regstring\n",
    "        except AttributeError:\n",
    "            pass\n",
    "    if num:\n",
    "        return 0\n",
    "    return ''\n",
    "\n",
    "for i in range(len(df)):\n",
    "    text = df['text'][i]\n",
    "    State = df['state'][i]\n",
    "    try:\n",
    "        a = {\n",
    "        'guests':try_patterns(text,['\\d+(?= guest)'],num=True),#\n",
    "\n",
    "        'bedrooms':try_patterns(text,['\\d+(?= bedroom)'],num=True),#\n",
    "\n",
    "        'beds':try_patterns(text,['\\d+(?= beds)','\\d+(?= bed )'],num=True),#\n",
    "\n",
    "        'bathrooms':try_patterns(text,['[\\d.]+(?= bath)','\\d+(?= shared bath)','\\d+(?= private bath)'],num=True),#\n",
    "\n",
    "        'price': try_patterns(text,['(?<=\\$)\\d+(?= per night)'],num=True),#\n",
    "\n",
    "        'Superhost':text.find('Superhost') > -1,#\n",
    "\n",
    "        'location':try_patterns(text,[f'[\\w ]+(?=, {State})','[\\w ]+(?=, United States)']),#\n",
    "\n",
    "        'rating':try_patterns(text,['\\d\\.\\d+'],num=True), #\n",
    "\n",
    "        'place type': try_patterns(text,['(?<=Reserve)[\\w ]+(?= hosted)','(?<=availability)[\\w ]+(?= hosted)','[\\w ]+(?= hosted)']),#\n",
    "\n",
    "        'State':State, #\n",
    "\n",
    "        'Cleanliness rating':try_patterns(text,['(?<=Cleanliness)\\d\\.\\d+'],num=True),\n",
    "\n",
    "        'Accuracy rating':try_patterns(text,['(?<=Accuracy)\\d\\.\\d+'],num=True),\n",
    "\n",
    "        'Communication rating':try_patterns(text,['(?<=Communication)\\d\\.\\d+'],num=True),\n",
    "\n",
    "        'Location rating':try_patterns(text,['(?<=Location)\\d\\.\\d+'],num=True),\n",
    "\n",
    "        'Check-in rating':try_patterns(text,['(?<=Check-in)\\d\\.\\d+'],num=True),\n",
    "\n",
    "        'Value rating':try_patterns(text,['(?<=Value)\\d\\.\\d+'],num=True),\n",
    "        \n",
    "        'plus':df['room'][i][0:4] == 'plus'\n",
    "        }\n",
    "\n",
    "        if df['reviews'][i] < 3 and a['rating'] != 0:\n",
    "            print('see')\n",
    "            a['rating'] = 0\n",
    "        \n",
    "\n",
    "        if a['bedrooms'] == 0 & text.find('Studio') > -1:\n",
    "            a['bedrooms'] = 0.5\n",
    "\n",
    "        \n",
    "\n",
    "        processed.append(a)\n",
    "\n",
    "    except Exception as e:\n",
    "        errd.append(e)\n",
    "\n",
    "    \n",
    "tempdf = pd.DataFrame(processed)"
   ]
  },
  {
   "cell_type": "code",
   "execution_count": 7,
   "metadata": {},
   "outputs": [
    {
     "data": {
      "text/plain": [
       "0"
      ]
     },
     "execution_count": 7,
     "metadata": {},
     "output_type": "execute_result"
    }
   ],
   "source": [
    "len(errd)"
   ]
  },
  {
   "cell_type": "code",
   "execution_count": 8,
   "metadata": {},
   "outputs": [
    {
     "data": {
      "text/plain": [
       "2158"
      ]
     },
     "execution_count": 8,
     "metadata": {},
     "output_type": "execute_result"
    }
   ],
   "source": [
    "len(tempdf)"
   ]
  },
  {
   "cell_type": "code",
   "execution_count": 13,
   "metadata": {},
   "outputs": [
    {
     "data": {
      "text/plain": [
       "153"
      ]
     },
     "execution_count": 13,
     "metadata": {},
     "output_type": "execute_result"
    }
   ],
   "source": [
    "len(df[df['text'].str.find('Studio') > -1])"
   ]
  },
  {
   "cell_type": "code",
   "execution_count": 15,
   "metadata": {},
   "outputs": [
    {
     "data": {
      "text/html": [
       "<div>\n",
       "<style scoped>\n",
       "    .dataframe tbody tr th:only-of-type {\n",
       "        vertical-align: middle;\n",
       "    }\n",
       "\n",
       "    .dataframe tbody tr th {\n",
       "        vertical-align: top;\n",
       "    }\n",
       "\n",
       "    .dataframe thead th {\n",
       "        text-align: right;\n",
       "    }\n",
       "</style>\n",
       "<table border=\"1\" class=\"dataframe\">\n",
       "  <thead>\n",
       "    <tr style=\"text-align: right;\">\n",
       "      <th></th>\n",
       "      <th>room</th>\n",
       "      <th>text</th>\n",
       "      <th>days booked</th>\n",
       "      <th>date</th>\n",
       "      <th>search position</th>\n",
       "      <th>city</th>\n",
       "      <th>state</th>\n",
       "      <th>reviews</th>\n",
       "      <th>adults</th>\n",
       "      <th>children</th>\n",
       "      <th>infants</th>\n",
       "      <th>pets</th>\n",
       "    </tr>\n",
       "  </thead>\n",
       "  <tbody>\n",
       "    <tr>\n",
       "      <th>1614</th>\n",
       "      <td>29877084</td>\n",
       "      <td>Skip to content    Start your searchStaysExpe...</td>\n",
       "      <td>24</td>\n",
       "      <td>2023-01-17 10:40:58.387337</td>\n",
       "      <td>266</td>\n",
       "      <td>Chicago</td>\n",
       "      <td>Illinois</td>\n",
       "      <td>197</td>\n",
       "      <td>2</td>\n",
       "      <td>0</td>\n",
       "      <td>0</td>\n",
       "      <td>0</td>\n",
       "    </tr>\n",
       "    <tr>\n",
       "      <th>1615</th>\n",
       "      <td>48215227</td>\n",
       "      <td>Skip to content    Start your searchStaysExpe...</td>\n",
       "      <td>35</td>\n",
       "      <td>2023-01-17 10:41:00.866310</td>\n",
       "      <td>267</td>\n",
       "      <td>Chicago</td>\n",
       "      <td>Illinois</td>\n",
       "      <td>56</td>\n",
       "      <td>2</td>\n",
       "      <td>0</td>\n",
       "      <td>0</td>\n",
       "      <td>0</td>\n",
       "    </tr>\n",
       "    <tr>\n",
       "      <th>1616</th>\n",
       "      <td>690637882075022232</td>\n",
       "      <td>Skip to content    Start your searchStaysExpe...</td>\n",
       "      <td>2</td>\n",
       "      <td>2023-01-17 10:41:02.807303</td>\n",
       "      <td>268</td>\n",
       "      <td>Chicago</td>\n",
       "      <td>Illinois</td>\n",
       "      <td>17</td>\n",
       "      <td>2</td>\n",
       "      <td>0</td>\n",
       "      <td>0</td>\n",
       "      <td>0</td>\n",
       "    </tr>\n",
       "    <tr>\n",
       "      <th>1617</th>\n",
       "      <td>734871188071815020</td>\n",
       "      <td>Skip to content    Start your searchStaysExpe...</td>\n",
       "      <td>73</td>\n",
       "      <td>2023-01-17 10:41:04.910763</td>\n",
       "      <td>269</td>\n",
       "      <td>Chicago</td>\n",
       "      <td>Illinois</td>\n",
       "      <td>5</td>\n",
       "      <td>2</td>\n",
       "      <td>0</td>\n",
       "      <td>0</td>\n",
       "      <td>0</td>\n",
       "    </tr>\n",
       "    <tr>\n",
       "      <th>1618</th>\n",
       "      <td>750207467391040511</td>\n",
       "      <td>Skip to content    Start your searchStaysExpe...</td>\n",
       "      <td>12</td>\n",
       "      <td>2023-01-17 10:41:06.934881</td>\n",
       "      <td>270</td>\n",
       "      <td>Chicago</td>\n",
       "      <td>Illinois</td>\n",
       "      <td>6</td>\n",
       "      <td>2</td>\n",
       "      <td>0</td>\n",
       "      <td>0</td>\n",
       "      <td>0</td>\n",
       "    </tr>\n",
       "  </tbody>\n",
       "</table>\n",
       "</div>"
      ],
      "text/plain": [
       "                    room                                               text  \\\n",
       "1614            29877084   Skip to content    Start your searchStaysExpe...   \n",
       "1615            48215227   Skip to content    Start your searchStaysExpe...   \n",
       "1616  690637882075022232   Skip to content    Start your searchStaysExpe...   \n",
       "1617  734871188071815020   Skip to content    Start your searchStaysExpe...   \n",
       "1618  750207467391040511   Skip to content    Start your searchStaysExpe...   \n",
       "\n",
       "      days booked                        date  search position     city  \\\n",
       "1614           24  2023-01-17 10:40:58.387337              266  Chicago   \n",
       "1615           35  2023-01-17 10:41:00.866310              267  Chicago   \n",
       "1616            2  2023-01-17 10:41:02.807303              268  Chicago   \n",
       "1617           73  2023-01-17 10:41:04.910763              269  Chicago   \n",
       "1618           12  2023-01-17 10:41:06.934881              270  Chicago   \n",
       "\n",
       "         state  reviews  adults  children  infants  pets  \n",
       "1614  Illinois      197       2         0        0     0  \n",
       "1615  Illinois       56       2         0        0     0  \n",
       "1616  Illinois       17       2         0        0     0  \n",
       "1617  Illinois        5       2         0        0     0  \n",
       "1618  Illinois        6       2         0        0     0  "
      ]
     },
     "execution_count": 15,
     "metadata": {},
     "output_type": "execute_result"
    }
   ],
   "source": [
    "df.tail()"
   ]
  },
  {
   "cell_type": "code",
   "execution_count": null,
   "metadata": {},
   "outputs": [],
   "source": [
    "tempdf.head()"
   ]
  },
  {
   "cell_type": "code",
   "execution_count": null,
   "metadata": {},
   "outputs": [],
   "source": [
    "tempdf['plus'].describe()"
   ]
  },
  {
   "cell_type": "code",
   "execution_count": null,
   "metadata": {},
   "outputs": [],
   "source": [
    "\n",
    "tempdf[ (tempdf['reviews'] == 0)]"
   ]
  },
  {
   "cell_type": "code",
   "execution_count": null,
   "metadata": {},
   "outputs": [],
   "source": []
  },
  {
   "cell_type": "code",
   "execution_count": null,
   "metadata": {},
   "outputs": [],
   "source": [
    "len(df[df['room'].str[0:4] == 'plus'])"
   ]
  },
  {
   "cell_type": "code",
   "execution_count": null,
   "metadata": {},
   "outputs": [],
   "source": [
    "df['room'][565]"
   ]
  },
  {
   "cell_type": "code",
   "execution_count": null,
   "metadata": {},
   "outputs": [],
   "source": [
    "re.search('(?<=$)\\d+(?= reviews)',df['text'][63]) == None"
   ]
  },
  {
   "cell_type": "code",
   "execution_count": null,
   "metadata": {},
   "outputs": [],
   "source": [
    "df['text'][63]"
   ]
  },
  {
   "cell_type": "code",
   "execution_count": null,
   "metadata": {},
   "outputs": [],
   "source": []
  }
 ],
 "metadata": {
  "kernelspec": {
   "display_name": "Python 3",
   "language": "python",
   "name": "python3"
  },
  "language_info": {
   "codemirror_mode": {
    "name": "ipython",
    "version": 3
   },
   "file_extension": ".py",
   "mimetype": "text/x-python",
   "name": "python",
   "nbconvert_exporter": "python",
   "pygments_lexer": "ipython3",
   "version": "3.10.9"
  },
  "orig_nbformat": 4,
  "vscode": {
   "interpreter": {
    "hash": "b0fa6594d8f4cbf19f97940f81e996739fb7646882a419484c72d19e05852a7e"
   }
  }
 },
 "nbformat": 4,
 "nbformat_minor": 2
}
