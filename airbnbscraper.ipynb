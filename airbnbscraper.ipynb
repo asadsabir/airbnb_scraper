{
 "cells": [
  {
   "cell_type": "code",
   "execution_count": 2,
   "metadata": {},
   "outputs": [],
   "source": [
    "#add date\n",
    "#add to csv\n",
    "#start zillow\n",
    "from selenium import webdriver\n",
    "from selenium.webdriver.chrome.options import Options\n",
    "from selenium.webdriver.common.by import By\n",
    "from selenium.webdriver.support.wait import WebDriverWait\n",
    "import time\n",
    "import pandas as pd\n",
    "import re\n",
    "import seaborn as sb"
   ]
  },
  {
   "cell_type": "code",
   "execution_count": 3,
   "metadata": {},
   "outputs": [
    {
     "name": "stderr",
     "output_type": "stream",
     "text": [
      "/var/folders/lw/r6bk51ln09vdlk9nc13qh7280000gn/T/ipykernel_18830/527381162.py:7: DeprecationWarning: executable_path has been deprecated, please pass in a Service object\n",
      "  driver = webdriver.Chrome(options=options,executable_path='./chromedriver')\n"
     ]
    }
   ],
   "source": [
    "url = 'https://www.airbnb.com/s/Dallas--TX--USA/homes?place_id=ChIJS5dFe_cZTIYRj2dH9qSb7Lk&refinement_paths%5B%5D=%2Fhomes&checkin=2022-08-28&checkout=2022-08-29&date_picker_type=calendar&adults=10&search_type=AUTOSUGGEST&tab_id=home_tab&query=Dallas%2C%20TX%2C%20USA&flexible_trip_lengths%5B%5D=one_week&federated_search_session_id=ac780de5-b1ff-48b8-a9e8-2b2e88e6fd55&pagination_search=true'\n",
    "State = 'Texas'\n",
    "allplaces = []\n",
    "page_count = 0\n",
    "options = Options()\n",
    "options.add_argument('--blink-settings=imagesEnabled=false')\n",
    "driver = webdriver.Chrome(options=options,executable_path='./chromedriver')\n",
    "driver.set_window_position(0, 0)\n",
    "driver.set_window_size(2560, 1440)\n"
   ]
  },
  {
   "cell_type": "code",
   "execution_count": 5,
   "metadata": {},
   "outputs": [
    {
     "name": "stdout",
     "output_type": "stream",
     "text": [
      "no rating\n",
      "no rating\n",
      "no rating\n",
      "no rating\n",
      "no reviews\n",
      "no reviews\n",
      "no rating\n",
      "no reviews\n",
      "no reviews\n",
      "no reviews\n",
      "no rating\n",
      "no reviews\n",
      "no rating\n",
      "no reviews\n",
      "no rating\n",
      "no reviews\n"
     ]
    }
   ],
   "source": [
    "listings = []\n",
    "\n",
    "next_page = url\n",
    "\n",
    "while next_page:\n",
    "    flag = True\n",
    "    driver.get(next_page)\n",
    "    time.sleep(7)\n",
    "\n",
    "    links = driver.find_elements(By.TAG_NAME,'a')\n",
    "    for l in links:\n",
    "        if l.get_attribute('href').find('https://www.airbnb.com/rooms') > -1:\n",
    "            listings.append(l.get_attribute('href'))\n",
    "        elif l.get_attribute('aria-label') == 'Next':\n",
    "            next_page = l.get_attribute('href')\n",
    "            flag = False\n",
    "    \n",
    "    if flag:\n",
    "        next_page = ''\n",
    "\n",
    "listings = pd.Series(listings)\n",
    "listings.drop_duplicates(inplace=True)\n",
    "\n",
    "\n",
    "places = []\n",
    "for l in listings:\n",
    "    driver.get(l)\n",
    "\n",
    "    \n",
    "    def site_loaded(d):\n",
    "            try:\n",
    "                alltext = ''\n",
    "                divs = d.find_elements(By.TAG_NAME,'div')\n",
    "                for div in divs:\n",
    "                    alltext = alltext + div.text\n",
    "                return True\n",
    "            except:\n",
    "                return False\n",
    "\n",
    "    WebDriverWait(driver,timeout=20).until(site_loaded)\n",
    "\n",
    "    alltext = ''\n",
    "    divs = driver.find_elements(By.TAG_NAME,'div')\n",
    "    for div in divs:\n",
    "        alltext = alltext + div.text\n",
    "\n",
    "\n",
    "    a = {\n",
    "    'title':driver.find_element(By.CLASS_NAME,'_fecoyn4').text,\n",
    "    'guests':int(re.search('\\d+(?= guest)',alltext).group()),\n",
    "    'bedrooms':0,\n",
    "    'beds':0,\n",
    "    'bathrooms':0,\n",
    "    'price':int(re.search('(?<=\\$)\\d+',alltext).group()),\n",
    "    'days booked':0,\n",
    "    'Superhost':alltext.find('Superhost') > -1,\n",
    "    'location':'',\n",
    "    'rating':0,\n",
    "    'reviews':0,\n",
    "    'place type':re.search('[\\w ]+(?= hosted)',alltext).group(),\n",
    "    'State':State\n",
    "    }\n",
    "    try:\n",
    "        a['location'] = re.search(f'[\\w ]+(?=, {State})',alltext).group()\n",
    "    except:\n",
    "        a['location'] = re.search('[\\w ]+(?=, United States)',alltext).group()\n",
    "    try:\n",
    "        a['beds'] = int(re.search('\\d+(?= beds)',alltext).group())\n",
    "    except:\n",
    "        a['beds'] = 0\n",
    "    try:\n",
    "        a['bedrooms'] = int(re.search('\\d+(?= bedroom)',alltext).group())\n",
    "    except:\n",
    "        a['bedrooms'] = 0\n",
    "\n",
    "    try:\n",
    "        a['bathrooms'] = int(re.search('[\\d,.]+(?= bath)',alltext).group())\n",
    "    except:\n",
    "        if re.search('\\d+(?= shared)',alltext):\n",
    "            a['bathrooms'] = int(re.search('\\d+(?= shared)',alltext).group())\n",
    "    try:\n",
    "        a['rating'] = float(re.search('\\d.\\d+',alltext).group())\n",
    "    except:\n",
    "        print('no rating')\n",
    "\n",
    "    try:\n",
    "        a['reviews'] = int(re.search('\\d+(?= review)',alltext).group())\n",
    "    except:\n",
    "        print('no reviews')\n",
    "\n",
    "\n",
    "    cal = driver.find_elements(By.TAG_NAME,'td')\n",
    "\n",
    "    for d in cal:\n",
    "        if d.get_attribute('aria-label'):\n",
    "            if d.get_attribute('aria-label').find('Unavailable') > -1:\n",
    "                a['days booked'] += 1\n",
    "\n",
    "\n",
    "    for i in range(2):\n",
    "        buttons = driver.find_elements(By.TAG_NAME,'button')\n",
    "\n",
    "        for b in buttons:\n",
    "            if b.get_attribute('aria-label'):\n",
    "                if b.get_attribute('aria-label').find('next month') > -1:\n",
    "                    b.click()\n",
    "                    time.sleep(1)\n",
    "                    cal = driver.find_elements(By.TAG_NAME,'td')\n",
    "                    for d in cal:\n",
    "                        if d.get_attribute('aria-label'):\n",
    "                            if d.get_attribute('aria-label').find('Unavailable') > -1:\n",
    "                                a['days booked'] += 1\n",
    "\n",
    "    places.append(a)\n",
    "\n",
    "\n",
    "\n",
    "\n",
    "\n",
    "\n"
   ]
  },
  {
   "cell_type": "code",
   "execution_count": 14,
   "metadata": {},
   "outputs": [],
   "source": [
    "driver.quit()"
   ]
  },
  {
   "cell_type": "code",
   "execution_count": 6,
   "metadata": {},
   "outputs": [
    {
     "data": {
      "text/plain": [
       "163"
      ]
     },
     "execution_count": 6,
     "metadata": {},
     "output_type": "execute_result"
    }
   ],
   "source": [
    "len(listings)"
   ]
  },
  {
   "cell_type": "code",
   "execution_count": 7,
   "metadata": {},
   "outputs": [
    {
     "data": {
      "text/plain": [
       "163"
      ]
     },
     "execution_count": 7,
     "metadata": {},
     "output_type": "execute_result"
    }
   ],
   "source": [
    "len(places)"
   ]
  },
  {
   "cell_type": "code",
   "execution_count": 10,
   "metadata": {},
   "outputs": [],
   "source": [
    "df = pd.DataFrame(places)"
   ]
  },
  {
   "cell_type": "code",
   "execution_count": 9,
   "metadata": {},
   "outputs": [
    {
     "data": {
      "text/html": [
       "<div>\n",
       "<style scoped>\n",
       "    .dataframe tbody tr th:only-of-type {\n",
       "        vertical-align: middle;\n",
       "    }\n",
       "\n",
       "    .dataframe tbody tr th {\n",
       "        vertical-align: top;\n",
       "    }\n",
       "\n",
       "    .dataframe thead th {\n",
       "        text-align: right;\n",
       "    }\n",
       "</style>\n",
       "<table border=\"1\" class=\"dataframe\">\n",
       "  <thead>\n",
       "    <tr style=\"text-align: right;\">\n",
       "      <th></th>\n",
       "      <th>title</th>\n",
       "      <th>guests</th>\n",
       "      <th>bedrooms</th>\n",
       "      <th>beds</th>\n",
       "      <th>bathrooms</th>\n",
       "      <th>price</th>\n",
       "      <th>days booked</th>\n",
       "      <th>Superhost</th>\n",
       "      <th>location</th>\n",
       "      <th>rating</th>\n",
       "      <th>reviews</th>\n",
       "      <th>place type</th>\n",
       "      <th>State</th>\n",
       "    </tr>\n",
       "  </thead>\n",
       "  <tbody>\n",
       "    <tr>\n",
       "      <th>0</th>\n",
       "      <td>Hot Tub, Putting Green, Game Room!</td>\n",
       "      <td>10</td>\n",
       "      <td>3</td>\n",
       "      <td>4</td>\n",
       "      <td>2</td>\n",
       "      <td>237</td>\n",
       "      <td>51</td>\n",
       "      <td>True</td>\n",
       "      <td>Carrollton</td>\n",
       "      <td>5.00</td>\n",
       "      <td>28</td>\n",
       "      <td>Entire home</td>\n",
       "      <td>Texas</td>\n",
       "    </tr>\n",
       "    <tr>\n",
       "      <th>1</th>\n",
       "      <td>Cheerful 4 bedrooms vacation home near Bishop ...</td>\n",
       "      <td>12</td>\n",
       "      <td>4</td>\n",
       "      <td>6</td>\n",
       "      <td>2</td>\n",
       "      <td>285</td>\n",
       "      <td>32</td>\n",
       "      <td>True</td>\n",
       "      <td>Dallas</td>\n",
       "      <td>5.00</td>\n",
       "      <td>4</td>\n",
       "      <td>Entire home</td>\n",
       "      <td>Texas</td>\n",
       "    </tr>\n",
       "    <tr>\n",
       "      <th>2</th>\n",
       "      <td>★Amazing Backyard★ 5min walk to Restaurants</td>\n",
       "      <td>10</td>\n",
       "      <td>3</td>\n",
       "      <td>5</td>\n",
       "      <td>2</td>\n",
       "      <td>192</td>\n",
       "      <td>155</td>\n",
       "      <td>False</td>\n",
       "      <td>Dallas</td>\n",
       "      <td>4.77</td>\n",
       "      <td>186</td>\n",
       "      <td>Entire home</td>\n",
       "      <td>Texas</td>\n",
       "    </tr>\n",
       "    <tr>\n",
       "      <th>3</th>\n",
       "      <td>Stylish &amp; Comfy ~ Mins to AT&amp;T ~ ♛Royal Beds ~...</td>\n",
       "      <td>12</td>\n",
       "      <td>5</td>\n",
       "      <td>6</td>\n",
       "      <td>0</td>\n",
       "      <td>250</td>\n",
       "      <td>90</td>\n",
       "      <td>False</td>\n",
       "      <td>Grand Prairie</td>\n",
       "      <td>5.00</td>\n",
       "      <td>6</td>\n",
       "      <td>Entire home</td>\n",
       "      <td>Texas</td>\n",
       "    </tr>\n",
       "    <tr>\n",
       "      <th>4</th>\n",
       "      <td>Cozy 2 story house, 5 bedrooms, 8 beds</td>\n",
       "      <td>12</td>\n",
       "      <td>5</td>\n",
       "      <td>8</td>\n",
       "      <td>0</td>\n",
       "      <td>339</td>\n",
       "      <td>3</td>\n",
       "      <td>False</td>\n",
       "      <td>Frisco</td>\n",
       "      <td>4.90</td>\n",
       "      <td>10</td>\n",
       "      <td>Entire home</td>\n",
       "      <td>Texas</td>\n",
       "    </tr>\n",
       "  </tbody>\n",
       "</table>\n",
       "</div>"
      ],
      "text/plain": [
       "                                               title  guests  bedrooms  beds  \\\n",
       "0                 Hot Tub, Putting Green, Game Room!      10         3     4   \n",
       "1  Cheerful 4 bedrooms vacation home near Bishop ...      12         4     6   \n",
       "2        ★Amazing Backyard★ 5min walk to Restaurants      10         3     5   \n",
       "3  Stylish & Comfy ~ Mins to AT&T ~ ♛Royal Beds ~...      12         5     6   \n",
       "4             Cozy 2 story house, 5 bedrooms, 8 beds      12         5     8   \n",
       "\n",
       "   bathrooms  price  days booked  Superhost       location  rating  reviews  \\\n",
       "0          2    237           51       True     Carrollton    5.00       28   \n",
       "1          2    285           32       True         Dallas    5.00        4   \n",
       "2          2    192          155      False         Dallas    4.77      186   \n",
       "3          0    250           90      False  Grand Prairie    5.00        6   \n",
       "4          0    339            3      False         Frisco    4.90       10   \n",
       "\n",
       "    place type  State  \n",
       "0  Entire home  Texas  \n",
       "1  Entire home  Texas  \n",
       "2  Entire home  Texas  \n",
       "3  Entire home  Texas  \n",
       "4  Entire home  Texas  "
      ]
     },
     "execution_count": 9,
     "metadata": {},
     "output_type": "execute_result"
    }
   ],
   "source": [
    "df.head()"
   ]
  },
  {
   "cell_type": "code",
   "execution_count": 11,
   "metadata": {},
   "outputs": [],
   "source": [
    "df.to_csv('airbnb.csv')"
   ]
  },
  {
   "cell_type": "code",
   "execution_count": 13,
   "metadata": {},
   "outputs": [
    {
     "name": "stderr",
     "output_type": "stream",
     "text": [
      "/Users/asadsabir/Library/Python/3.8/lib/python/site-packages/seaborn/_decorators.py:36: FutureWarning: Pass the following variables as keyword args: x, y. From version 0.12, the only valid positional argument will be `data`, and passing other arguments without an explicit keyword will result in an error or misinterpretation.\n",
      "  warnings.warn(\n"
     ]
    },
    {
     "data": {
      "text/plain": [
       "<AxesSubplot:xlabel='guests', ylabel='price'>"
      ]
     },
     "execution_count": 13,
     "metadata": {},
     "output_type": "execute_result"
    },
    {
     "data": {
      "image/png": "[encoded data removed]",
      "text/plain": [
       "<Figure size 432x288 with 1 Axes>"
      ]
     },
     "metadata": {
      "needs_background": "light"
     },
     "output_type": "display_data"
    }
   ],
   "source": [
    "sb.barplot(df['guests'],df['price'])"
   ]
  },
  {
   "cell_type": "code",
   "execution_count": null,
   "metadata": {},
   "outputs": [],
   "source": []
  }
 ],
 "metadata": {
  "kernelspec": {
   "display_name": "Python 3.8.9 64-bit",
   "language": "python",
   "name": "python3"
  },
  "language_info": {
   "codemirror_mode": {
    "name": "ipython",
    "version": 3
   },
   "file_extension": ".py",
   "mimetype": "text/x-python",
   "name": "python",
   "nbconvert_exporter": "python",
   "pygments_lexer": "ipython3",
   "version": "3.8.9"
  },
  "orig_nbformat": 4,
  "vscode": {
   "interpreter": {
    "hash": "31f2aee4e71d21fbe5cf8b01ff0e069b9275f58929596ceb00d14d90e3e16cd6"
   }
  }
 },
 "nbformat": 4,
 "nbformat_minor": 2
}
